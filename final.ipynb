{
 "cells": [
  {
   "cell_type": "code",
   "execution_count": 1,
   "metadata": {},
   "outputs": [
    {
     "name": "stdout",
     "output_type": "stream",
     "text": [
      "Train: 7.555486314470185\n"
     ]
    }
   ],
   "source": [
    "import pandas as pd\n",
    "import numpy as np\n",
    "\n",
    "from sklearn.model_selection import train_test_split\n",
    "from sklearn.metrics import mean_squared_error\n",
    "\n",
    "from sklearn.experimental import enable_hist_gradient_boosting\n",
    "from sklearn.ensemble import HistGradientBoostingRegressor\n",
    "\n",
    "train = pd.read_csv(\"train.csv\", parse_dates=['date'], dayfirst=True)\n",
    "test = pd.read_csv(\"test.csv\", parse_dates=['date'], dayfirst=True)\n",
    "\n",
    "def extract_date(df, column):\n",
    "    df[column+'_year'] = df[column].apply(lambda x: x.year)\n",
    "    df[column+'_month'] = df[column].apply(lambda x: x.month)\n",
    "    df[column+'_day'] = df[column].apply(lambda x: x.day)\n",
    "    df[column+'_weekday'] = df[column].apply(lambda x: x.weekday())\n",
    "    df[column+'_hour'] = df[column].apply(lambda x: x.hour)\n",
    "    \n",
    "extract_date(train, 'date')\n",
    "extract_date(test, 'date')\n",
    "\n",
    "X_train = train.loc[:, ['date_year', 'date_month', 'date_day', 'date_weekday', 'date_hour']].values\n",
    "y_train = train.loc[:, ['speed']].values\n",
    "X_test = test.loc[:, ['date_year', 'date_month', 'date_day', 'date_weekday', 'date_hour']].values\n",
    "\n",
    "# y_test = y_test.ravel()\n",
    "y_train = y_train.ravel()\n",
    "\n",
    "est = HistGradientBoostingRegressor(max_iter=1000,\n",
    "                                    max_depth=16,\n",
    "                                    random_state=100,\n",
    "                                    min_samples_leaf=2,\n",
    "                                    learning_rate=0.1).fit(X_train, y_train)\n",
    "result = est.predict(X_train)\n",
    "\n",
    "print('Train:',mean_squared_error(y_train,result))\n",
    "\n",
    "submit = est.predict(X_test)\n",
    "\n",
    "test['speed'] = submit\n",
    "submit = test[['id', 'speed']]\n",
    "\n",
    "#submit.to_csv('./histreg.csv', index=False)"
   ]
  },
  {
   "cell_type": "code",
   "execution_count": null,
   "metadata": {},
   "outputs": [],
   "source": []
  }
 ],
 "metadata": {
  "kernelspec": {
   "display_name": "Python 3",
   "language": "python",
   "name": "python3"
  },
  "language_info": {
   "codemirror_mode": {
    "name": "ipython",
    "version": 3
   },
   "file_extension": ".py",
   "mimetype": "text/x-python",
   "name": "python",
   "nbconvert_exporter": "python",
   "pygments_lexer": "ipython3",
   "version": "3.8.6"
  }
 },
 "nbformat": 4,
 "nbformat_minor": 4
}
